{
  "nbformat": 4,
  "nbformat_minor": 0,
  "metadata": {
    "colab": {
      "provenance": [],
      "authorship_tag": "ABX9TyOXfl4XLzWgfjxTZv79EtIJ",
      "include_colab_link": true
    },
    "kernelspec": {
      "name": "python3",
      "display_name": "Python 3"
    },
    "language_info": {
      "name": "python"
    }
  },
  "cells": [
    {
      "cell_type": "markdown",
      "metadata": {
        "id": "view-in-github",
        "colab_type": "text"
      },
      "source": [
        "<a href=\"https://colab.research.google.com/github/MSimonFRA-UAS/LfDFra-UAS/blob/main/adaline_ex.ipynb\" target=\"_parent\"><img src=\"https://colab.research.google.com/assets/colab-badge.svg\" alt=\"Open In Colab\"/></a>"
      ]
    },
    {
      "cell_type": "code",
      "source": [
        "%pip install mlxtend --upgrade"
      ],
      "metadata": {
        "colab": {
          "base_uri": "https://localhost:8080/"
        },
        "id": "HFvTHFPoIUgo",
        "outputId": "e767204a-89f8-4c7a-fda4-0902eea4866b"
      },
      "execution_count": null,
      "outputs": [
        {
          "output_type": "stream",
          "name": "stdout",
          "text": [
            "Looking in indexes: https://pypi.org/simple, https://us-python.pkg.dev/colab-wheels/public/simple/\n",
            "Requirement already satisfied: mlxtend in /usr/local/lib/python3.9/dist-packages (0.22.0)\n",
            "Requirement already satisfied: pandas>=0.24.2 in /usr/local/lib/python3.9/dist-packages (from mlxtend) (1.5.3)\n",
            "Requirement already satisfied: numpy>=1.16.2 in /usr/local/lib/python3.9/dist-packages (from mlxtend) (1.22.4)\n",
            "Requirement already satisfied: matplotlib>=3.0.0 in /usr/local/lib/python3.9/dist-packages (from mlxtend) (3.7.1)\n",
            "Requirement already satisfied: joblib>=0.13.2 in /usr/local/lib/python3.9/dist-packages (from mlxtend) (1.2.0)\n",
            "Requirement already satisfied: scikit-learn>=1.0.2 in /usr/local/lib/python3.9/dist-packages (from mlxtend) (1.2.2)\n",
            "Requirement already satisfied: scipy>=1.2.1 in /usr/local/lib/python3.9/dist-packages (from mlxtend) (1.10.1)\n",
            "Requirement already satisfied: setuptools in /usr/local/lib/python3.9/dist-packages (from mlxtend) (67.6.1)\n",
            "Requirement already satisfied: contourpy>=1.0.1 in /usr/local/lib/python3.9/dist-packages (from matplotlib>=3.0.0->mlxtend) (1.0.7)\n",
            "Requirement already satisfied: kiwisolver>=1.0.1 in /usr/local/lib/python3.9/dist-packages (from matplotlib>=3.0.0->mlxtend) (1.4.4)\n",
            "Requirement already satisfied: pillow>=6.2.0 in /usr/local/lib/python3.9/dist-packages (from matplotlib>=3.0.0->mlxtend) (8.4.0)\n",
            "Requirement already satisfied: fonttools>=4.22.0 in /usr/local/lib/python3.9/dist-packages (from matplotlib>=3.0.0->mlxtend) (4.39.3)\n",
            "Requirement already satisfied: packaging>=20.0 in /usr/local/lib/python3.9/dist-packages (from matplotlib>=3.0.0->mlxtend) (23.0)\n",
            "Requirement already satisfied: pyparsing>=2.3.1 in /usr/local/lib/python3.9/dist-packages (from matplotlib>=3.0.0->mlxtend) (3.0.9)\n",
            "Requirement already satisfied: importlib-resources>=3.2.0 in /usr/local/lib/python3.9/dist-packages (from matplotlib>=3.0.0->mlxtend) (5.12.0)\n",
            "Requirement already satisfied: python-dateutil>=2.7 in /usr/local/lib/python3.9/dist-packages (from matplotlib>=3.0.0->mlxtend) (2.8.2)\n",
            "Requirement already satisfied: cycler>=0.10 in /usr/local/lib/python3.9/dist-packages (from matplotlib>=3.0.0->mlxtend) (0.11.0)\n",
            "Requirement already satisfied: pytz>=2020.1 in /usr/local/lib/python3.9/dist-packages (from pandas>=0.24.2->mlxtend) (2022.7.1)\n",
            "Requirement already satisfied: threadpoolctl>=2.0.0 in /usr/local/lib/python3.9/dist-packages (from scikit-learn>=1.0.2->mlxtend) (3.1.0)\n",
            "Requirement already satisfied: zipp>=3.1.0 in /usr/local/lib/python3.9/dist-packages (from importlib-resources>=3.2.0->matplotlib>=3.0.0->mlxtend) (3.15.0)\n",
            "Requirement already satisfied: six>=1.5 in /usr/local/lib/python3.9/dist-packages (from python-dateutil>=2.7->matplotlib>=3.0.0->mlxtend) (1.16.0)\n"
          ]
        }
      ]
    },
    {
      "cell_type": "code",
      "execution_count": null,
      "metadata": {
        "id": "ZIjvrUxwmTEH"
      },
      "outputs": [],
      "source": [
        "import numpy as np\n",
        "import pandas as pd\n",
        "import matplotlib.pyplot as plt\n",
        "from mlxtend.plotting import plot_decision_regions"
      ]
    },
    {
      "cell_type": "code",
      "source": [
        "class Adaline(object):\n",
        "\n",
        "    def __init__(self, eta=0.01, epochs=50):\n",
        "        self.eta = eta\n",
        "        self.epochs = epochs\n",
        "\n",
        "    def linear_combination(self, X):\n",
        "        #YOUR CODE GOES HERE\n",
        "\n",
        "    def predict(self, X):\n",
        "        # use step function for thresholding\n",
        "        #YOUR CODE GOES HERE\n",
        "\n",
        "    def train(self, X, y):\n",
        "        # X is the input data matrix\n",
        "        # y is the output vector corresponding to input X\n",
        "        self.w_ = np.zeros(X.shape[1] + 1) # hide the bias in the weight vector\n",
        "        self.sos_ = []\n",
        "\n",
        "        for _ in range(self.epochs):\n",
        "            #YOUR CODE GOES HERE\n",
        "        return self"
      ],
      "metadata": {
        "id": "D-i7POFADMzx"
      },
      "execution_count": null,
      "outputs": []
    },
    {
      "cell_type": "code",
      "source": [
        "# Load the Iris dataset into a dataframe\n",
        "df = pd.read_csv('https://archive.ics.uci.edu/ml/machine-learning-databases/iris/iris.data', header=None)\n",
        "df.head"
      ],
      "metadata": {
        "colab": {
          "base_uri": "https://localhost:8080/"
        },
        "id": "5J8ay82aFjOY",
        "outputId": "d0154549-6b2c-4c39-c0d9-a43dc867ebb9"
      },
      "execution_count": null,
      "outputs": [
        {
          "output_type": "execute_result",
          "data": {
            "text/plain": [
              "<bound method NDFrame.head of        0    1    2    3               4\n",
              "0    5.1  3.5  1.4  0.2     Iris-setosa\n",
              "1    4.9  3.0  1.4  0.2     Iris-setosa\n",
              "2    4.7  3.2  1.3  0.2     Iris-setosa\n",
              "3    4.6  3.1  1.5  0.2     Iris-setosa\n",
              "4    5.0  3.6  1.4  0.2     Iris-setosa\n",
              "..   ...  ...  ...  ...             ...\n",
              "145  6.7  3.0  5.2  2.3  Iris-virginica\n",
              "146  6.3  2.5  5.0  1.9  Iris-virginica\n",
              "147  6.5  3.0  5.2  2.0  Iris-virginica\n",
              "148  6.2  3.4  5.4  2.3  Iris-virginica\n",
              "149  5.9  3.0  5.1  1.8  Iris-virginica\n",
              "\n",
              "[150 rows x 5 columns]>"
            ]
          },
          "metadata": {},
          "execution_count": 4
        }
      ]
    },
    {
      "cell_type": "markdown",
      "source": [
        "![220px-Petal-sepal.jpg](data:image/jpeg;base64,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) \n",
        "\n",
        "From English Wikipedia:\n",
        "\n",
        "Image of a primrose willowherb Ludwigia octovalvis (family Onagraceae), flower showing petals and sepals. Photograph made in Hawai'i by Eric Guinther (Marshman at en.wikipedia) and released under the GNU Free Documentation License."
      ],
      "metadata": {
        "id": "bJ7GeSdEG5Se"
      }
    },
    {
      "cell_type": "code",
      "source": [
        "# Let's start with a linearly separable example\n",
        "df = df.sample(frac = 1) # shuffle the data\n",
        "y = df.iloc[0:100, 4].values\n",
        "y = np.where(y == 'Iris-setosa', -1, 1)\n",
        "\n",
        "# Consider the features sepal length and petal length\n",
        "X = df.iloc[0:100, [0,2]].values"
      ],
      "metadata": {
        "id": "Jd7X6f4cGLFv"
      },
      "execution_count": null,
      "outputs": []
    },
    {
      "cell_type": "code",
      "source": [
        "#Run adaline algorithm\n",
        "#YOUR CODE GOES HERE"
      ],
      "metadata": {
        "id": "ljKXdIfgHeK7"
      },
      "execution_count": null,
      "outputs": []
    },
    {
      "cell_type": "code",
      "source": [
        "# Visualize binary classification regions\n",
        "#YOUR CODE GOES HERE"
      ],
      "metadata": {
        "id": "xKIbo-jpHicA"
      },
      "execution_count": null,
      "outputs": []
    },
    {
      "cell_type": "code",
      "source": [
        "# Plot sum-of-squares error\n",
        "#YOUR CODE GOES HERE"
      ],
      "metadata": {
        "id": "7oe48GHOJMBj"
      },
      "execution_count": null,
      "outputs": []
    }
  ]
}