{
  "nbformat": 4,
  "nbformat_minor": 0,
  "metadata": {
    "colab": {
      "provenance": [],
      "authorship_tag": "ABX9TyN7eyCFFsk/a37CGo9QwH+/",
      "include_colab_link": true
    },
    "kernelspec": {
      "name": "python3",
      "display_name": "Python 3"
    },
    "language_info": {
      "name": "python"
    }
  },
  "cells": [
    {
      "cell_type": "markdown",
      "metadata": {
        "id": "view-in-github",
        "colab_type": "text"
      },
      "source": [
        "<a href=\"https://colab.research.google.com/github/MSimonFRA-UAS/LfDFra-UAS/blob/main/biasvariance_sol.ipynb\" target=\"_parent\"><img src=\"https://colab.research.google.com/assets/colab-badge.svg\" alt=\"Open In Colab\"/></a>"
      ]
    },
    {
      "cell_type": "code",
      "execution_count": 6,
      "metadata": {
        "id": "sqyhrq4bo7B2"
      },
      "outputs": [],
      "source": [
        "import numpy as np\n",
        "import matplotlib.pyplot as plt\n",
        "import math"
      ]
    },
    {
      "cell_type": "code",
      "source": [
        "# Sample from the uniform distribution on [lb, ub] \n",
        "def uniform_sample(lb, ub, num_samples):\n",
        "    return lb + np.random.random_sample((num_samples,))*(ub-lb)"
      ],
      "metadata": {
        "id": "So0nZ_Ktpe0g"
      },
      "execution_count": 7,
      "outputs": []
    },
    {
      "cell_type": "code",
      "source": [
        "# Analytical expression for the learned hypothesis (we consider only (i) here)\n",
        "def g_D(x, x1, x2):\n",
        "    a = (np.sin(math.pi*x2)-np.sin(math.pi*x1))/(x2-x1)\n",
        "    b = (x2*np.sin(math.pi*x1)-x1*np.sin(math.pi*x2))/(x2-x1)\n",
        "    return a*x + b"
      ],
      "metadata": {
        "id": "U8T3dYLXp1PP"
      },
      "execution_count": 8,
      "outputs": []
    },
    {
      "cell_type": "code",
      "source": [
        "# Compute the average hypothesis with respect to all possible D at a given point x\n",
        "def g_avg(x, _g_D, num_samples, targetfunc):\n",
        "    average_g_at_x, variance_at_x, bias_at_x = [], [], []\n",
        "    g_D_realizations = []\n",
        "    for i in range(num_samples):\n",
        "        # generate 2 data points for each realization of D\n",
        "        x1, x2 = uniform_sample(-1, 1, 2)\n",
        "        v = _g_D(x, x1, x2)\n",
        "        g_D_realizations.append(v)\n",
        "        \n",
        "    average_g_at_x = np.mean(g_D_realizations)\n",
        "    variance_at_x = np.var(g_D_realizations)\n",
        "    bias_at_x = (average_g_at_x - targetfunc(x))**2\n",
        "    return average_g_at_x, variance_at_x, bias_at_x"
      ],
      "metadata": {
        "id": "-17jXUItqPM-"
      },
      "execution_count": 9,
      "outputs": []
    },
    {
      "cell_type": "code",
      "source": [
        "# Compute the expected value averaged over all x of variance, bias and out-of-sample error\n",
        "def calc_bias_variance_eout(_g_D, targetfunc, num_data_samples, num_x_samples):\n",
        "    variances, biases, eouts = [], [], []\n",
        "    for i in range(num_x_samples):\n",
        "        x = uniform_sample(-1, 1, 1)\n",
        "        _, variance, bias = g_avg(x, _g_D, num_data_samples, targetfunc)\n",
        "        variances.append(variance)\n",
        "        biases.append(bias)\n",
        "        eout_realizations = []\n",
        "        for i in range(num_data_samples):\n",
        "            x1, x2 = uniform_sample(-1, 1, 2)\n",
        "            v= _g_D(x, x1, x2)\n",
        "            eout_realizations.append((v-targetfunc(x))**2) \n",
        "\n",
        "        average_eout = np.mean(eout_realizations)\n",
        "        eouts.append(average_eout)\n",
        "    \n",
        "    bias = np.mean(biases)\n",
        "    variance = np.mean(variances)    \n",
        "    eout = np.mean(eouts)\n",
        "    print('The bias is: ', bias)\n",
        "    print('The variance is: ', variance)\n",
        "    print('The expected out-of-sample error is: ', eout)\n",
        "    print('The bias+variance is: ', variance+bias)"
      ],
      "metadata": {
        "id": "E2qqnJNNsCBQ"
      },
      "execution_count": 13,
      "outputs": []
    },
    {
      "cell_type": "code",
      "source": [
        "num_data_samples = 1000\n",
        "num_x_samples = 1000    \n",
        "calc_bias_variance_eout(g_D, lambda x: np.sin(math.pi*x), num_data_samples, num_x_samples)    "
      ],
      "metadata": {
        "colab": {
          "base_uri": "https://localhost:8080/"
        },
        "id": "8aYfYHImu8AG",
        "outputId": "4e9f5a18-15a7-4f22-f8e4-b0a880dbf685"
      },
      "execution_count": 14,
      "outputs": [
        {
          "output_type": "stream",
          "name": "stdout",
          "text": [
            "The bias is:  0.21355839726468484\n",
            "The variance is:  1.6709736270390998\n",
            "The expected out-of-sample error is:  1.893718547183065\n",
            "The bias+variance is:  1.8845320243037846\n"
          ]
        }
      ]
    }
  ]
}