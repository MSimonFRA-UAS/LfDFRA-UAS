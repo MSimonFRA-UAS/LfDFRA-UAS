{
  "nbformat": 4,
  "nbformat_minor": 0,
  "metadata": {
    "colab": {
      "provenance": [],
      "authorship_tag": "ABX9TyMeaRplqL3c99v0jGiTH9LC",
      "include_colab_link": true
    },
    "kernelspec": {
      "name": "python3",
      "display_name": "Python 3"
    },
    "language_info": {
      "name": "python"
    }
  },
  "cells": [
    {
      "cell_type": "markdown",
      "metadata": {
        "id": "view-in-github",
        "colab_type": "text"
      },
      "source": [
        "<a href=\"https://colab.research.google.com/github/MSimonFRA-UAS/LfDFra-UAS/blob/main/regularization_demo.ipynb\" target=\"_parent\"><img src=\"https://colab.research.google.com/assets/colab-badge.svg\" alt=\"Open In Colab\"/></a>"
      ]
    },
    {
      "cell_type": "code",
      "execution_count": 1,
      "metadata": {
        "id": "nhOkStJa8Nj7"
      },
      "outputs": [],
      "source": [
        "import numpy as np\n",
        "import matplotlib.pyplot as plt"
      ]
    },
    {
      "cell_type": "code",
      "source": [
        "# Introductory example from the lecture\n",
        "\n",
        "sigma = 10**-3\n",
        "delta = 0.00001\n",
        "X = np.array([[1+3*delta, 1-3*delta], [3-delta, 3+delta]])\n",
        "print(\"X=\", X, sep='\\n')\n",
        "beta_exact = np.array([1, 1])\n",
        "y = np.matmul(X,beta_exact)\n",
        "print(\"y=\", y, sep='\\n')\n",
        "\n",
        "y_noisy = y + sigma*np.random.randn(*np.shape(y))\n",
        "print(\"y_noisy=\", y_noisy, sep='\\n')\n",
        "\n",
        "X_plus = (np.array([[1/np.sqrt(2), -1/np.sqrt(2)], [1/np.sqrt(2), 1/np.sqrt(2)]])).dot(np.array([[1/(2*np.sqrt(5)), 0], [0, 1/(2*delta*np.sqrt(5))]])).dot(np.transpose(np.array([[1/np.sqrt(10), -3/np.sqrt(10)], [3/np.sqrt(10), 1/np.sqrt(10)]])))\n",
        "print(\"unregularized least squares solution:\", np.matmul(X_plus,y_noisy))\n",
        "print(\"exact solution:\", beta_exact)"
      ],
      "metadata": {
        "colab": {
          "base_uri": "https://localhost:8080/"
        },
        "id": "J1GnXn-d-qii",
        "outputId": "c2f88457-eeec-44ff-8b76-a2321b2bc59f"
      },
      "execution_count": 113,
      "outputs": [
        {
          "output_type": "stream",
          "name": "stdout",
          "text": [
            "X=\n",
            "[[1.00003 0.99997]\n",
            " [2.99999 3.00001]]\n",
            "y=\n",
            "[2. 6.]\n",
            "y_noisy=\n",
            "[1.99918413 5.99854739]\n",
            "unregularized least squares solution: [-3.97520331  5.97468594]\n",
            "exact solution: [1 1]\n"
          ]
        }
      ]
    },
    {
      "cell_type": "code",
      "source": [
        "# Breakout: Make a suggestion on how to regularize the solution\n",
        "\n",
        "X_plus_reg = # Your code goes here\n",
        "print(\"regularized least squares solution:\", np.matmul(X_plus_reg,y_noisy))\n",
        "print(\"exact solution:\", beta_exact)"
      ],
      "metadata": {
        "colab": {
          "base_uri": "https://localhost:8080/"
        },
        "id": "lR3CuHdgHwWZ",
        "outputId": "646a31f7-1941-429f-ef5a-c952bfdba6ac"
      },
      "execution_count": 104,
      "outputs": [
        {
          "output_type": "stream",
          "name": "stdout",
          "text": [
            "[0.99996184 0.99996184]\n"
          ]
        }
      ]
    }
  ]
}